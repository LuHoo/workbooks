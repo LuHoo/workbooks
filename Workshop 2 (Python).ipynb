{
 "cells": [
  {
   "cell_type": "markdown",
   "metadata": {},
   "source": [
    "## 2. Probability distributions\n",
    "\n",
    "### 2.1 Hypergeometric distribution\n",
    "\n",
    "Density function. The function `hypergeom.pmf` requires four arguments, `k = k`, `M = N`, `n = M`, and `N = n`. In *Case: Number of students*, we sampled $n = 60$ items from a list of $N = 331$ PhDs. We assume that $M = 17$ have erroneously been listed. The probability $P(k = 0)$ of finding no errrors in the sample is calculated as follows."
   ]
  },
  {
   "cell_type": "code",
   "execution_count": 50,
   "metadata": {},
   "outputs": [
    {
     "name": "stdout",
     "output_type": "stream",
     "text": [
      "Probability: 0.03036497699701723\n"
     ]
    }
   ],
   "source": [
    "from scipy.stats import hypergeom\n",
    "\n",
    "# Parameters\n",
    "N = 331  # Total number of items in the population\n",
    "M = 17   # Number of items in the population that are classified as successes\n",
    "n = 60   # Number of items drawn from the population\n",
    "k = 0    # Number of successes in the draw\n",
    "\n",
    "# Calculate the hypergeometric probability mass function (PMF)\n",
    "probability = hypergeom.pmf(k = k, M = N, n = M, N = n)\n",
    "\n",
    "print(\"Probability:\", probability)\n"
   ]
  },
  {
   "cell_type": "markdown",
   "metadata": {},
   "source": [
    "Similarly, the probability $P(k = 1)$ of finding one error is"
   ]
  },
  {
   "cell_type": "code",
   "execution_count": 51,
   "metadata": {},
   "outputs": [
    {
     "data": {
      "text/plain": [
       "0.12145990798806892"
      ]
     },
     "execution_count": 51,
     "metadata": {},
     "output_type": "execute_result"
    }
   ],
   "source": [
    "hypergeom.pmf(1, 331, 17, 60)"
   ]
  },
  {
   "cell_type": "markdown",
   "metadata": {},
   "source": [
    "Cumulative probability function. the probability $P(k \\leq 1)$ of finding up to one error is"
   ]
  },
  {
   "cell_type": "code",
   "execution_count": 52,
   "metadata": {},
   "outputs": [
    {
     "data": {
      "text/plain": [
       "0.15182488498508614"
      ]
     },
     "execution_count": 52,
     "metadata": {},
     "output_type": "execute_result"
    }
   ],
   "source": [
    "hypergeom.cdf(1, 331, 17, 60)"
   ]
  },
  {
   "cell_type": "markdown",
   "metadata": {},
   "source": [
    "This is the sum of the two probabilities $P(k = 0)$ and $P(k = 1)$"
   ]
  },
  {
   "cell_type": "code",
   "execution_count": 53,
   "metadata": {},
   "outputs": [
    {
     "data": {
      "text/plain": [
       "0.15182488498508614"
      ]
     },
     "execution_count": 53,
     "metadata": {},
     "output_type": "execute_result"
    }
   ],
   "source": [
    "hypergeom.pmf(0, 331, 17, 60) + hypergeom.pmf(1, 331, 17, 60)"
   ]
  },
  {
   "cell_type": "markdown",
   "metadata": {},
   "source": [
    "We can also calculate the right-hand tail probability $P(k > 1)$."
   ]
  },
  {
   "cell_type": "code",
   "execution_count": 54,
   "metadata": {},
   "outputs": [
    {
     "data": {
      "text/plain": [
       "0.8481751150149138"
      ]
     },
     "execution_count": 54,
     "metadata": {},
     "output_type": "execute_result"
    }
   ],
   "source": [
    "hypergeom.sf(1, 331, 17, 60)"
   ]
  },
  {
   "cell_type": "markdown",
   "metadata": {},
   "source": [
    "This is the complement of the left-hand tail probability $P(k \\leq 1)$, in other words, the two probabilities sum to one."
   ]
  },
  {
   "cell_type": "code",
   "execution_count": 55,
   "metadata": {},
   "outputs": [
    {
     "data": {
      "text/plain": [
       "1.0"
      ]
     },
     "execution_count": 55,
     "metadata": {},
     "output_type": "execute_result"
    }
   ],
   "source": [
    "hypergeom.cdf(1, 331, 17, 60) + hypergeom.sf(1, 331, 17, 60)"
   ]
  },
  {
   "cell_type": "markdown",
   "metadata": {},
   "source": [
    "### 2.2. Binomial distribution"
   ]
  },
  {
   "cell_type": "markdown",
   "metadata": {},
   "source": [
    "Density function. The function `binom.pmf` requires two arguments, `k = k`, `n = n`, and `p = M / N`. The probabilty `p` is the error rate in the population, in *Case: Number of students* this is $p = M / N = 17 / 331$.\n"
   ]
  },
  {
   "cell_type": "code",
   "execution_count": 56,
   "metadata": {},
   "outputs": [
    {
     "name": "stdout",
     "output_type": "stream",
     "text": [
      "Probability: 0.1373313791683671\n"
     ]
    }
   ],
   "source": [
    "from scipy.stats import binom\n",
    "\n",
    "# Parameters\n",
    "N = 331  # Total number of items in the population\n",
    "M = 17  # Number of items in the population that are classified as successes\n",
    "n = 60   # Number of items drawn from the population\n",
    "k = 1    # Number of successes in the draw\n",
    "\n",
    "# Calculate the binomial probability mass function (PMF)\n",
    "probability = binom.pmf(k = k, n = n, p = M / N)\n",
    "\n",
    "print(\"Probability:\", probability)"
   ]
  },
  {
   "cell_type": "markdown",
   "metadata": {},
   "source": [
    "Cumulative probability function."
   ]
  },
  {
   "cell_type": "code",
   "execution_count": 57,
   "metadata": {},
   "outputs": [
    {
     "data": {
      "text/plain": [
       "0.17960790177509958"
      ]
     },
     "execution_count": 57,
     "metadata": {},
     "output_type": "execute_result"
    }
   ],
   "source": [
    "binom.cdf(k = k, n = n, p = M / N)"
   ]
  },
  {
   "cell_type": "markdown",
   "metadata": {},
   "source": [
    "### 2.3 Poisson distribution\n",
    "\n",
    "Density function. The function `poisson.pmf` requires two arguments, `k = k`, and `mu = np`, with `p` defined as for the binomial distribution.\n"
   ]
  },
  {
   "cell_type": "code",
   "execution_count": 58,
   "metadata": {},
   "outputs": [
    {
     "name": "stdout",
     "output_type": "stream",
     "text": [
      "Probability: 0.1414043918733124\n"
     ]
    }
   ],
   "source": [
    "from scipy.stats import poisson\n",
    "\n",
    "# Parameters\n",
    "N = 331  # Total number of items in the population\n",
    "M = 17   # Number of items in the population that are classified as successes\n",
    "n = 60   # Number of items drawn from the population\n",
    "k = 1    # Number of successes in the draw\n",
    "\n",
    "# Calculate the Poisson probability mass function (PMF)\n",
    "probability = poisson.pmf(k = k, mu = n * M / N)\n",
    "\n",
    "print(\"Probability:\", probability)"
   ]
  },
  {
   "cell_type": "markdown",
   "metadata": {},
   "source": []
  },
  {
   "cell_type": "markdown",
   "metadata": {},
   "source": [
    "Similarly, for $k = 3$"
   ]
  },
  {
   "cell_type": "code",
   "execution_count": 59,
   "metadata": {},
   "outputs": [
    {
     "data": {
      "text/plain": [
       "0.22379789843860848"
      ]
     },
     "execution_count": 59,
     "metadata": {},
     "output_type": "execute_result"
    }
   ],
   "source": [
    "poisson.pmf(3, 60 * 17 / 331)"
   ]
  },
  {
   "cell_type": "markdown",
   "metadata": {},
   "source": [
    "Cumulative probability function."
   ]
  },
  {
   "cell_type": "code",
   "execution_count": 60,
   "metadata": {},
   "outputs": [
    {
     "data": {
      "text/plain": [
       "0.1872915033537697"
      ]
     },
     "execution_count": 60,
     "metadata": {},
     "output_type": "execute_result"
    }
   ],
   "source": [
    "poisson.cdf(1, 60 * 17 / 331)"
   ]
  },
  {
   "cell_type": "markdown",
   "metadata": {},
   "source": [
    "### 2.4 Normal distribution "
   ]
  },
  {
   "cell_type": "markdown",
   "metadata": {},
   "source": [
    "Distribution function. The function `norm.cdf` requires three arguments, `q` for the sampling result that we evaluate, `mean` for the population mean, and `sd` for the standard deviation of the mean."
   ]
  },
  {
   "cell_type": "code",
   "execution_count": 61,
   "metadata": {},
   "outputs": [
    {
     "name": "stdout",
     "output_type": "stream",
     "text": [
      "Probability: 0.013602685762330115\n"
     ]
    }
   ],
   "source": [
    "from scipy.stats import norm\n",
    "\n",
    "# Parameters\n",
    "result  = 1012                    # Sampling result to evaluate\n",
    "popmean = 1030                    # Population mean\n",
    "sd      = 115.26 / math.sqrt(200) # Standard deviation of the mean\n",
    "\n",
    "# Calculate the normal cumulative density function (CDF)\n",
    "probability = norm.cdf(x = result, loc = popmean, scale = sd)\n",
    "\n",
    "print(\"Probability:\", probability)"
   ]
  },
  {
   "cell_type": "markdown",
   "metadata": {},
   "source": [
    "Note that the syntax is more elaborate than what we have done so far. In Python we can choose between passing the values of the arguments only and passing values specifically assigned to the arguments that the function uses.\n",
    "\n",
    "There are two advantages to using argument names and values. First, the command is easier to interpret by a reviewer. Second, we can pass the arguments in any order. The following commands are therefore equivalent:"
   ]
  },
  {
   "cell_type": "code",
   "execution_count": 62,
   "metadata": {},
   "outputs": [
    {
     "data": {
      "text/plain": [
       "0.013602685762330115"
      ]
     },
     "execution_count": 62,
     "metadata": {},
     "output_type": "execute_result"
    }
   ],
   "source": [
    "norm.cdf(1012, 1030, 115.26 / math.sqrt(200))"
   ]
  },
  {
   "cell_type": "code",
   "execution_count": 63,
   "metadata": {},
   "outputs": [
    {
     "data": {
      "text/plain": [
       "0.013602685762330115"
      ]
     },
     "execution_count": 63,
     "metadata": {},
     "output_type": "execute_result"
    }
   ],
   "source": [
    "norm.cdf(x = 1012, loc = 1030, scale = 115.26 / math.sqrt(200))"
   ]
  },
  {
   "cell_type": "code",
   "execution_count": 64,
   "metadata": {},
   "outputs": [
    {
     "data": {
      "text/plain": [
       "0.013602685762330115"
      ]
     },
     "execution_count": 64,
     "metadata": {},
     "output_type": "execute_result"
    }
   ],
   "source": [
    "norm.cdf(scale = 115.26 / math.sqrt(200), x = 1012, loc = 1030)"
   ]
  },
  {
   "cell_type": "markdown",
   "metadata": {},
   "source": [
    "### 2.5 Student's $t$ distribution\n",
    "\n",
    "To calculate the probability found of 14.71\\%, we use the function `t.cdf` with arguments `x` for the boundary value and `df` for the number of degrees of freedom."
   ]
  },
  {
   "cell_type": "code",
   "execution_count": 71,
   "metadata": {},
   "outputs": [
    {
     "name": "stdout",
     "output_type": "stream",
     "text": [
      "Probability: 0.14705532622052686\n"
     ]
    }
   ],
   "source": [
    "from scipy.stats import t\n",
    "\n",
    "# Parameters\n",
    "tval = (1004 - 1030) / (73.8 / math.sqrt(10)) # Boundary value\n",
    "df   = 9                                      # Degrees of freedom\n",
    "\n",
    "# Calculate the normal cumulative density function (CDF)\n",
    "probability = t.cdf(x = tval, df = df)\n",
    "\n",
    "print(\"Probability:\", probability)"
   ]
  },
  {
   "cell_type": "markdown",
   "metadata": {},
   "source": [
    "### 2.6 $\\chi^2$ (chi-squared) distribution\n",
    "\n",
    "The 95\\% upper bound on a $\\chi^2$ distributed variable with (10 - 1) degrees of freedom is"
   ]
  },
  {
   "cell_type": "code",
   "execution_count": 72,
   "metadata": {},
   "outputs": [
    {
     "name": "stdout",
     "output_type": "stream",
     "text": [
      "Upper bound: 16.918977604620448\n"
     ]
    }
   ],
   "source": [
    "from scipy.stats import chi2\n",
    "\n",
    "# Parameters\n",
    "df   = 9                                      # Degrees of freedom\n",
    "\n",
    "# Calculate the normal cumulative density function (CDF)\n",
    "upper_bound = chi2.ppf(q = .95, df = df)\n",
    "\n",
    "print(\"Upper bound:\", upper_bound)"
   ]
  },
  {
   "cell_type": "markdown",
   "metadata": {},
   "source": [
    "Similarly, to calculate the upper bound for $\\sigma^2$, we start with the lower bound of a $\\chi^2$ distributed variable\n"
   ]
  },
  {
   "cell_type": "code",
   "execution_count": 67,
   "metadata": {},
   "outputs": [
    {
     "name": "stdout",
     "output_type": "stream",
     "text": [
      "Lower bound: 3.325112843066815\n"
     ]
    }
   ],
   "source": [
    "lower_bound = chi2.ppf(q = .05, df = df)\n",
    "\n",
    "print(\"Lower bound:\", lower_bound)"
   ]
  },
  {
   "cell_type": "markdown",
   "metadata": {},
   "source": [
    "### 2.7 $F$ distribution\n",
    "\n",
    "Hypothesis testing is done with the function `f.ppf`."
   ]
  },
  {
   "cell_type": "code",
   "execution_count": 68,
   "metadata": {},
   "outputs": [
    {
     "name": "stdout",
     "output_type": "stream",
     "text": [
      "Critical value: 1.9962706179379208\n"
     ]
    }
   ],
   "source": [
    "from scipy.stats import f\n",
    "\n",
    "# Parameters\n",
    "q   = .95 # Significance\n",
    "dfn = 25  # Degrees of freedom nominator\n",
    "dfd = 23  # Degrees of freedom denominator\n",
    "\n",
    "# Calculate the normal cumulative density function (CDF)\n",
    "f_crit = f.ppf(q = q, dfn = dfn, dfd = dfd)\n",
    "\n",
    "print(\"Critical value:\", f_crit)"
   ]
  },
  {
   "cell_type": "markdown",
   "metadata": {},
   "source": [
    "The probability of obtaining this particular value of the test statistic is calculated with the `f.sf` function."
   ]
  },
  {
   "cell_type": "code",
   "execution_count": 69,
   "metadata": {},
   "outputs": [
    {
     "data": {
      "text/plain": [
       "0.049999999999999975"
      ]
     },
     "execution_count": 69,
     "metadata": {},
     "output_type": "execute_result"
    }
   ],
   "source": [
    "f.sf(x = f_crit, dfn = dfn, dfd = dfd)"
   ]
  }
 ],
 "metadata": {
  "kernelspec": {
   "display_name": "Python 3",
   "language": "python",
   "name": "python3"
  },
  "language_info": {
   "codemirror_mode": {
    "name": "ipython",
    "version": 3
   },
   "file_extension": ".py",
   "mimetype": "text/x-python",
   "name": "python",
   "nbconvert_exporter": "python",
   "pygments_lexer": "ipython3",
   "version": "3.11.8"
  }
 },
 "nbformat": 4,
 "nbformat_minor": 2
}
